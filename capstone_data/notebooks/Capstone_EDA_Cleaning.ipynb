{
 "cells": [
  {
   "cell_type": "code",
   "execution_count": null,
   "id": "104dfb57",
   "metadata": {},
   "outputs": [],
   "source": [
    "from sqlalchemy import create_engine\n",
    "from collections import Counter\n",
    "import io\n",
    "import pandas as pd\n",
    "import sqlite3 as sql\n",
    "import re\n",
    "import numpy as np\n",
    "import seaborn as sns\n",
    "from datetime import datetime as dt\n",
    "import matplotlib.pyplot as plt\n",
    "import matplotlib.colors as colors\n",
    "from jupyterthemes import jtplot\n",
    "jtplot.style()\n",
    "from shapely.geometry import Point\n",
    "import geopandas as gpd\n",
    "import folium\n",
    "from folium.plugins import MarkerCluster\n",
    "from folium.plugins import FastMarkerCluster\n",
    "from skimpy import clean_columns\n",
    "import cmd\n",
    "import geopandas as gpd\n",
    "# !pip install skimpy\n",
    "# !pip install openpyxl\n",
    "pd.set_option('display.max_rows', 100)\n",
    "# pd.set_option('max_columns', None)\n",
    "pd.options.display.max_colwidth = 3000\n",
    "\n",
    "%matplotlib inline"
   ]
  },
  {
   "cell_type": "code",
   "execution_count": null,
   "id": "6efead42",
   "metadata": {},
   "outputs": [],
   "source": [
    "# ortho_df = pd.read_csv('../Data/export (5).csv')\n",
    "test = pd.read_excel('../Data/United_States_2020.xlsx')\n",
    "test1 = pd.read_excel('../Data/Crimes_Against_Persons_Offenses_Offense_Category_by_State_2020.xls.xlsx')\n",
    "test2 = pd.read_excel('../Data/Crimes_Against_Property_Offenses_Offense_Category_by_State_2020.xls.xlsx')\n",
    "test3 = pd.read_excel('../Data/Crimes_Against_Society_Offenses_Offense_Category_by_State_2020.xls.xlsx')\n",
    "test4 = pd.read_excel('../Data/Incidents_with_Drugs_Narcotics_Seized_by_Suspected_Drug_Type_2020.xls.xlsx')\n",
    "test5 = pd.read_excel('../Data/Offenses_Involving_Offenders_Suspected_Use_Drugs_Narcotics_and_Alcohol_by_Offense_Category_2020.xls.xlsx')\n",
    "test6 = pd.read_excel('../Data/Individuals_Justifiably_Killed_Justifiable_Homicide_Circum_by_Agg_Aslt_Homicide_Circum_2020.xls.xlsx')\n",
    "test7 = pd.read_excel('../Data/Murder_and_Nonnegligent_Manslaughter_and_Aggravated_Assault_Victims_Off_Type_by_Circumst_2020.xls.xlsx')\n",
    "test8 = pd.read_excel('../Data/Negligent_Manslaughter_Victims_by_Circumstance_2020.xls.xlsx')"
   ]
  },
  {
   "cell_type": "code",
   "execution_count": null,
   "id": "81a4902d",
   "metadata": {
    "scrolled": true
   },
   "outputs": [],
   "source": [
    "test"
   ]
  },
  {
   "cell_type": "code",
   "execution_count": null,
   "id": "97a80169",
   "metadata": {
    "scrolled": true
   },
   "outputs": [],
   "source": [
    "test.columns = test.iloc[3]\n",
    "test"
   ]
  },
  {
   "cell_type": "code",
   "execution_count": null,
   "id": "5cc15a5f",
   "metadata": {
    "scrolled": true
   },
   "outputs": [],
   "source": [
    "test.drop([0, 1, 2, 3, 7403, 7404, 7405, 7406, 7407], axis = 0, inplace = True)\n",
    "test"
   ]
  },
  {
   "cell_type": "code",
   "execution_count": null,
   "id": "41a7b658",
   "metadata": {
    "scrolled": true
   },
   "outputs": [],
   "source": [
    "test = test.reset_index(drop = True)"
   ]
  },
  {
   "cell_type": "code",
   "execution_count": null,
   "id": "0e73139f",
   "metadata": {},
   "outputs": [],
   "source": [
    "test.head(100)"
   ]
  },
  {
   "cell_type": "code",
   "execution_count": null,
   "id": "83dad3fa",
   "metadata": {},
   "outputs": [],
   "source": [
    "test.tail(100)"
   ]
  },
  {
   "cell_type": "code",
   "execution_count": null,
   "id": "d7b6eb79",
   "metadata": {
    "scrolled": true
   },
   "outputs": [],
   "source": [
    "test = clean_columns(test)\n",
    "test"
   ]
  },
  {
   "cell_type": "code",
   "execution_count": null,
   "id": "e8b0d327",
   "metadata": {},
   "outputs": [],
   "source": [
    "test.to_csv('US_data.csv', index = False)"
   ]
  },
  {
   "cell_type": "code",
   "execution_count": null,
   "id": "5ef9fdcf",
   "metadata": {
    "scrolled": true
   },
   "outputs": [],
   "source": [
    "test1"
   ]
  },
  {
   "cell_type": "code",
   "execution_count": null,
   "id": "cc7950eb",
   "metadata": {
    "scrolled": true
   },
   "outputs": [],
   "source": [
    "test1.columns = test1.iloc[4]\n",
    "test1"
   ]
  },
  {
   "cell_type": "code",
   "execution_count": null,
   "id": "07d4da9e",
   "metadata": {
    "scrolled": true
   },
   "outputs": [],
   "source": [
    "test1.drop([0, 1, 2, 3, 4, 53], axis = 0, inplace = True)\n",
    "test1"
   ]
  },
  {
   "cell_type": "code",
   "execution_count": null,
   "id": "5bb36ba5",
   "metadata": {
    "scrolled": true
   },
   "outputs": [],
   "source": [
    "test1 = test1.reset_index(drop = True)\n",
    "test1"
   ]
  },
  {
   "cell_type": "code",
   "execution_count": null,
   "id": "21bbb467",
   "metadata": {
    "scrolled": true
   },
   "outputs": [],
   "source": [
    "test1 = clean_columns(test1)\n",
    "test1"
   ]
  },
  {
   "cell_type": "code",
   "execution_count": null,
   "id": "129220cb",
   "metadata": {},
   "outputs": [],
   "source": [
    "test1.to_csv('crimes_against_persons.csv', index = False)"
   ]
  },
  {
   "cell_type": "code",
   "execution_count": null,
   "id": "fbc9899b",
   "metadata": {
    "scrolled": true
   },
   "outputs": [],
   "source": [
    "test2"
   ]
  },
  {
   "cell_type": "code",
   "execution_count": null,
   "id": "33ce1d7b",
   "metadata": {
    "scrolled": true
   },
   "outputs": [],
   "source": [
    "test2.columns = test2.iloc[4]\n",
    "test2"
   ]
  },
  {
   "cell_type": "code",
   "execution_count": null,
   "id": "4a1c1de3",
   "metadata": {
    "scrolled": true
   },
   "outputs": [],
   "source": [
    "test2.drop([0, 1, 2, 3, 4, 53], axis = 0, inplace = True)\n",
    "test2 = test2.reset_index(drop = True)\n",
    "test2 = clean_columns(test2)\n",
    "test2"
   ]
  },
  {
   "cell_type": "code",
   "execution_count": null,
   "id": "9b83675e",
   "metadata": {},
   "outputs": [],
   "source": [
    "test2.to_csv('crimes_against_property.csv', index = False)"
   ]
  },
  {
   "cell_type": "code",
   "execution_count": null,
   "id": "9f3d35d0",
   "metadata": {
    "scrolled": true
   },
   "outputs": [],
   "source": [
    "test3"
   ]
  },
  {
   "cell_type": "code",
   "execution_count": null,
   "id": "1aede6f9",
   "metadata": {
    "scrolled": true
   },
   "outputs": [],
   "source": [
    "test3.columns = test3.iloc[4]\n",
    "test3.drop([0, 1, 2, 3, 4, 53], axis = 0, inplace = True)\n",
    "test3 = test3.reset_index(drop = True)\n",
    "test3 = clean_columns(test3)\n",
    "test3"
   ]
  },
  {
   "cell_type": "code",
   "execution_count": null,
   "id": "504b9016",
   "metadata": {},
   "outputs": [],
   "source": [
    "test3.to_csv('crimes_against_society.csv', index = False)"
   ]
  },
  {
   "cell_type": "code",
   "execution_count": null,
   "id": "7b0bed10",
   "metadata": {
    "scrolled": true
   },
   "outputs": [],
   "source": [
    "test4"
   ]
  },
  {
   "cell_type": "code",
   "execution_count": null,
   "id": "1a9581b5",
   "metadata": {
    "scrolled": true
   },
   "outputs": [],
   "source": [
    "test4.columns = test4.iloc[2]\n",
    "test4.drop([0, 1, 2, 22], axis = 0, inplace = True)\n",
    "test4 = test4.reset_index(drop = True)\n",
    "test4 = clean_columns(test4)\n",
    "test4"
   ]
  },
  {
   "cell_type": "code",
   "execution_count": null,
   "id": "fa8d09b0",
   "metadata": {},
   "outputs": [],
   "source": [
    "test4.to_csv('incidents_with_drugs_seized.csv', index = False)"
   ]
  },
  {
   "cell_type": "code",
   "execution_count": null,
   "id": "84e009bf",
   "metadata": {
    "scrolled": true
   },
   "outputs": [],
   "source": [
    "test5"
   ]
  },
  {
   "cell_type": "code",
   "execution_count": null,
   "id": "3822ec91",
   "metadata": {
    "scrolled": true
   },
   "outputs": [],
   "source": [
    "test5.columns = test5.iloc[4]\n",
    "test5.drop([0, 1, 2, 3, 4, 32], axis = 0, inplace = True)\n",
    "test5 = test5.reset_index(drop = True)\n",
    "test5 = clean_columns(test5)\n",
    "test5"
   ]
  },
  {
   "cell_type": "code",
   "execution_count": null,
   "id": "d7f3be78",
   "metadata": {},
   "outputs": [],
   "source": [
    "test5.to_csv('offenders_using_drugs_alcohol.csv', index = False)"
   ]
  },
  {
   "cell_type": "code",
   "execution_count": null,
   "id": "4d5596d2",
   "metadata": {
    "scrolled": true
   },
   "outputs": [],
   "source": [
    "test6"
   ]
  },
  {
   "cell_type": "code",
   "execution_count": null,
   "id": "5c13abd9",
   "metadata": {},
   "outputs": [],
   "source": [
    "test6.columns = test6.iloc[4]\n",
    "test6.drop([0, 1, 2, 3, 4, 8], axis = 0, inplace = True)\n",
    "test6 = test6.reset_index(drop = True)\n",
    "test6 = clean_columns(test6)\n",
    "test6 = test6.rename( mapper = {'header': 'total_individuals'}, axis = 'columns')\n",
    "test6"
   ]
  },
  {
   "cell_type": "code",
   "execution_count": null,
   "id": "e8e6a40d",
   "metadata": {},
   "outputs": [],
   "source": [
    "test6.to_csv('individuals_justifiably_killed_justified_homicide_agggravated_assault_homicide.csv', index = False)"
   ]
  },
  {
   "cell_type": "code",
   "execution_count": null,
   "id": "ea222d98",
   "metadata": {
    "scrolled": true
   },
   "outputs": [],
   "source": [
    "test7"
   ]
  },
  {
   "cell_type": "code",
   "execution_count": null,
   "id": "93a838a9",
   "metadata": {},
   "outputs": [],
   "source": [
    "test7.columns = test7.iloc[4]\n",
    "test7.drop([0, 1, 2, 3, 4, 15, 16], axis = 0, inplace = True)\n",
    "test7 = test7.reset_index(drop = True)\n",
    "test7 = clean_columns(test7)\n",
    "test7 = test7.rename(mapper = {'header': 'total_victims'}, axis = 'columns')\n",
    "test7"
   ]
  },
  {
   "cell_type": "code",
   "execution_count": null,
   "id": "5bc293a6",
   "metadata": {},
   "outputs": [],
   "source": [
    "test7.to_csv('murder_nonnegligent_manslaughter_aggravated_assault_victims.csv', index = False)"
   ]
  },
  {
   "cell_type": "code",
   "execution_count": null,
   "id": "0fc5ccda",
   "metadata": {},
   "outputs": [],
   "source": [
    "test8"
   ]
  },
  {
   "cell_type": "code",
   "execution_count": null,
   "id": "ef5cc4f4",
   "metadata": {},
   "outputs": [],
   "source": [
    "test8.columns = test8.iloc[2]\n",
    "test8.drop([0, 1, 2], axis = 0, inplace = True)\n",
    "test8 = test8.reset_index(drop = True)\n",
    "test8 = clean_columns(test8)\n",
    "test8"
   ]
  },
  {
   "cell_type": "code",
   "execution_count": null,
   "id": "fcf4d602",
   "metadata": {},
   "outputs": [],
   "source": [
    "test8.to_csv('negligent_manslaughter_victims.csv', index = False)"
   ]
  }
 ],
 "metadata": {
  "kernelspec": {
   "display_name": "Python 3 (ipykernel)",
   "language": "python",
   "name": "python3"
  },
  "language_info": {
   "codemirror_mode": {
    "name": "ipython",
    "version": 3
   },
   "file_extension": ".py",
   "mimetype": "text/x-python",
   "name": "python",
   "nbconvert_exporter": "python",
   "pygments_lexer": "ipython3",
   "version": "3.8.5"
  }
 },
 "nbformat": 4,
 "nbformat_minor": 5
}
