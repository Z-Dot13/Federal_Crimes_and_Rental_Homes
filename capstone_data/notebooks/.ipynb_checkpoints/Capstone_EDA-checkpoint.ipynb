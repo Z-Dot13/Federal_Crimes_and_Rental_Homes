{
 "cells": [
  {
   "cell_type": "code",
   "execution_count": null,
   "id": "8cec59b9",
   "metadata": {},
   "outputs": [],
   "source": [
    "from sqlalchemy import create_engine\n",
    "from collections import Counter\n",
    "import io\n",
    "import pandas as pd\n",
    "import sqlite3 as sql\n",
    "import re\n",
    "import numpy as np\n",
    "import seaborn as sns\n",
    "from datetime import datetime as dt\n",
    "import matplotlib.pyplot as plt\n",
    "import matplotlib.colors as colors\n",
    "from jupyterthemes import jtplot\n",
    "jtplot.style()\n",
    "from shapely.geometry import Point\n",
    "import geopandas as gpd\n",
    "import folium\n",
    "from folium.plugins import MarkerCluster\n",
    "from folium.plugins import FastMarkerCluster\n",
    "from skimpy import clean_columns\n",
    "import cmd\n",
    "import geopandas as gpd\n",
    "# !pip install skimpy\n",
    "# !pip install openpyxl\n",
    "pd.set_option('display.max_rows', 100)\n",
    "# pd.set_option('max_columns', None)\n",
    "pd.options.display.max_colwidth = 3000\n",
    "\n",
    "%matplotlib inline"
   ]
  },
  {
   "cell_type": "code",
   "execution_count": null,
   "id": "84c27413",
   "metadata": {},
   "outputs": [],
   "source": [
    "us = pd.read_csv('US_data.csv')\n",
    "homes = pd.read_csv('../data/City_MedianRentalPrice_AllHomes.csv')\n",
    "# caperson = pd.read_csv('crimes_against_persons.csv')\n",
    "# caproperty = pd.read_csv('crimes_against_property.csv')\n",
    "# casociety = pd.read_csv('crimes_against_society.csv')\n",
    "# ids = pd.read_csv('incidents_with_drugs_seized.csv')\n",
    "# ouda = pd.read_csv('offenders_using_drugs_alcohol.csv')\n",
    "# nmv = pd.read_csv('negligent_manslaughter_victims.csv')\n",
    "# mnmaav = pd.read_csv('murder_nonnegligent_manslaughter_aggravated_assault_victims.csv')\n",
    "# ijkjhaah = pd.read_csv('individuals_justifiably_killed_justified_homicide_agggravated_assault_homicide.csv')"
   ]
  },
  {
   "cell_type": "code",
   "execution_count": null,
   "id": "ecf7f24d",
   "metadata": {
    "scrolled": true
   },
   "outputs": [],
   "source": [
    "us.head(100)"
   ]
  },
  {
   "cell_type": "code",
   "execution_count": null,
   "id": "a556a658",
   "metadata": {
    "scrolled": true
   },
   "outputs": [],
   "source": [
    "us_list = us.columns.values.tolist()"
   ]
  },
  {
   "cell_type": "code",
   "execution_count": null,
   "id": "32a05658",
   "metadata": {
    "scrolled": true
   },
   "outputs": [],
   "source": [
    "cli = cmd.Cmd()\n",
    "cli.columnize(us_list, displaywidth = 200)"
   ]
  },
  {
   "cell_type": "code",
   "execution_count": null,
   "id": "82b1b6ed",
   "metadata": {
    "scrolled": true
   },
   "outputs": [],
   "source": [
    "us"
   ]
  },
  {
   "cell_type": "code",
   "execution_count": null,
   "id": "531a7c6c",
   "metadata": {},
   "outputs": [],
   "source": [
    "us[(us.state == '0') | (us.state == 'None')] = None\n",
    "us['state_city'] = us.state.fillna(method = 'ffill', axis = 0)"
   ]
  },
  {
   "cell_type": "code",
   "execution_count": null,
   "id": "178c556b",
   "metadata": {
    "scrolled": true
   },
   "outputs": [],
   "source": [
    "us"
   ]
  },
  {
   "cell_type": "code",
   "execution_count": null,
   "id": "c32b4c60",
   "metadata": {},
   "outputs": [],
   "source": [
    "us['state_city'] = us['state_city'].fillna(method = 'backfill')\n",
    "us['state'] = us['state_city']"
   ]
  },
  {
   "cell_type": "code",
   "execution_count": null,
   "id": "21f69d00",
   "metadata": {},
   "outputs": [],
   "source": [
    "us.head(100)"
   ]
  },
  {
   "cell_type": "code",
   "execution_count": null,
   "id": "16d2f790",
   "metadata": {},
   "outputs": [],
   "source": [
    "us[(us.agency_type == '0') | (us.agency_type == 'None')] = None\n",
    "us['agency_type_new'] = us.agency_type.fillna(method = 'ffill', axis = 0)"
   ]
  },
  {
   "cell_type": "code",
   "execution_count": null,
   "id": "138ef702",
   "metadata": {},
   "outputs": [],
   "source": [
    "us['agency_type_new'] = us['agency_type_new'].fillna(method = 'backfill')\n",
    "us['agency_type'] = us['agency_type_new']"
   ]
  },
  {
   "cell_type": "code",
   "execution_count": null,
   "id": "8ae5b254",
   "metadata": {
    "scrolled": true
   },
   "outputs": [],
   "source": [
    "us = us.drop(['state_city', 'agency_type_new'], axis = 1)\n",
    "us"
   ]
  },
  {
   "cell_type": "code",
   "execution_count": null,
   "id": "cc9929df",
   "metadata": {
    "scrolled": true
   },
   "outputs": [],
   "source": [
    "us"
   ]
  },
  {
   "cell_type": "code",
   "execution_count": null,
   "id": "cf0aa095",
   "metadata": {},
   "outputs": [],
   "source": [
    "us.head(100)"
   ]
  },
  {
   "cell_type": "code",
   "execution_count": null,
   "id": "3b189b33",
   "metadata": {},
   "outputs": [],
   "source": [
    "us.tail(100)"
   ]
  },
  {
   "cell_type": "code",
   "execution_count": null,
   "id": "4b6e9120",
   "metadata": {
    "scrolled": true
   },
   "outputs": [],
   "source": [
    "us.value_counts('state')"
   ]
  },
  {
   "cell_type": "code",
   "execution_count": null,
   "id": "34371412",
   "metadata": {},
   "outputs": [],
   "source": [
    "west1 = us[us['state'].isin(['WASHINGTON', 'OREGON', 'NEVADA', 'WYOMING', 'MONTANA', 'IDAHO', 'UTAH', 'NEW MEXICO', 'ARIZONA', 'COLORADO'])]\n",
    "west1"
   ]
  },
  {
   "cell_type": "code",
   "execution_count": null,
   "id": "9751dc59",
   "metadata": {},
   "outputs": [],
   "source": [
    "west = us[us['state'].isin(['WASHINGTON', 'OREGON', 'NEVADA', 'WYOMING', 'MONTANA', 'IDAHO', 'UTAH', 'NEW MEXICO', 'ARIZONA', 'COLORADO'])].groupby('state').sum()"
   ]
  },
  {
   "cell_type": "code",
   "execution_count": null,
   "id": "61d8f859",
   "metadata": {},
   "outputs": [],
   "source": [
    "midwest = us[us['state'].isin(['NORTH DAKOTA', 'SOUTH DAKOTA', 'NEBRASKA', 'KANSAS', 'MISSOURI', 'MINNESOTA', 'IOWA', 'WISCONSIN', 'ILLINOIS', 'INDIANA', 'MICHIGAN', 'OHIO'])].groupby('state').sum()"
   ]
  },
  {
   "cell_type": "code",
   "execution_count": null,
   "id": "e1b56466",
   "metadata": {},
   "outputs": [],
   "source": [
    "north = us[us['state'].isin(['PENNSYLVANIA', 'NEW YORK', 'DISTRICT OF COLUMBIA', 'VERMONT', 'CONNECTICUT', 'RHODE ISLAND', 'MASSACHUSETTS', 'NEW HAMPSHIRE', 'MAINE'])].groupby('state').sum()"
   ]
  },
  {
   "cell_type": "code",
   "execution_count": null,
   "id": "c5c96852",
   "metadata": {},
   "outputs": [],
   "source": [
    "south = us[us['state'].isin(['TEXAS', 'OKLAHOMA', 'ARKANSAS', 'LOUISIANA', 'MISSISSIPPI', 'TENNESSEE', 'KENTUCKY', 'GEORGIA', 'SOUTH CAROLINA', 'NORTH CAROLINA', 'WEST VIRGINIA', 'VIRGINIA', 'MARYLAND', 'DELAWARE'])].groupby('state').sum()"
   ]
  },
  {
   "cell_type": "code",
   "execution_count": null,
   "id": "8e0197db",
   "metadata": {},
   "outputs": [],
   "source": [
    "federal = us[us['state'].isin(['FEDERAL5'])].groupby('state').sum()"
   ]
  },
  {
   "cell_type": "code",
   "execution_count": null,
   "id": "61de8e87",
   "metadata": {},
   "outputs": [],
   "source": [
    "west"
   ]
  },
  {
   "cell_type": "code",
   "execution_count": null,
   "id": "58ade995",
   "metadata": {
    "scrolled": true
   },
   "outputs": [],
   "source": [
    "west = west.reset_index()\n",
    "west"
   ]
  },
  {
   "cell_type": "code",
   "execution_count": null,
   "id": "7c0e8e0a",
   "metadata": {
    "scrolled": true
   },
   "outputs": [],
   "source": [
    "midwest = midwest.reset_index()\n",
    "midwest"
   ]
  },
  {
   "cell_type": "code",
   "execution_count": null,
   "id": "3a0f4ff2",
   "metadata": {
    "scrolled": true
   },
   "outputs": [],
   "source": [
    "north = north.reset_index()\n",
    "north"
   ]
  },
  {
   "cell_type": "code",
   "execution_count": null,
   "id": "f802c547",
   "metadata": {
    "scrolled": true
   },
   "outputs": [],
   "source": [
    "north.dtypes"
   ]
  },
  {
   "cell_type": "code",
   "execution_count": null,
   "id": "92a5781a",
   "metadata": {
    "scrolled": true
   },
   "outputs": [],
   "source": [
    "south = south.reset_index()\n",
    "south"
   ]
  },
  {
   "cell_type": "code",
   "execution_count": null,
   "id": "ccb77142",
   "metadata": {
    "scrolled": true
   },
   "outputs": [],
   "source": [
    "south.dtypes"
   ]
  },
  {
   "cell_type": "code",
   "execution_count": null,
   "id": "82c0cce4",
   "metadata": {},
   "outputs": [],
   "source": [
    "federal = federal.reset_index()\n",
    "federal"
   ]
  },
  {
   "cell_type": "code",
   "execution_count": null,
   "id": "9bcdb9ad",
   "metadata": {},
   "outputs": [],
   "source": [
    "homes.head(100)"
   ]
  },
  {
   "cell_type": "code",
   "execution_count": null,
   "id": "e065ae35",
   "metadata": {},
   "outputs": [],
   "source": [
    "print(homes.columns.tolist())"
   ]
  },
  {
   "cell_type": "code",
   "execution_count": null,
   "id": "97f37132",
   "metadata": {},
   "outputs": [],
   "source": [
    "homes = homes.drop(['Unnamed: 0', 'Metro'], axis = 1)\n",
    "homes"
   ]
  },
  {
   "cell_type": "code",
   "execution_count": null,
   "id": "b88f6962",
   "metadata": {},
   "outputs": [],
   "source": [
    "homes['mean'] = homes.filter(regex = \"[^2010-01]\").mean(1)"
   ]
  },
  {
   "cell_type": "code",
   "execution_count": null,
   "id": "ef3be51d",
   "metadata": {},
   "outputs": [],
   "source": [
    "homes"
   ]
  },
  {
   "cell_type": "code",
   "execution_count": null,
   "id": "2cda7933",
   "metadata": {},
   "outputs": [],
   "source": [
    "test = {}"
   ]
  },
  {
   "cell_type": "code",
   "execution_count": null,
   "id": "279df27b",
   "metadata": {},
   "outputs": [],
   "source": [
    "test[\"mean\"] = homes.loc[:,[c for c in homes.columns if c!= \"2010-01\"]].mean(axis = 1)"
   ]
  },
  {
   "cell_type": "code",
   "execution_count": null,
   "id": "2e76a890",
   "metadata": {},
   "outputs": [],
   "source": [
    "test"
   ]
  },
  {
   "cell_type": "code",
   "execution_count": null,
   "id": "805eee94",
   "metadata": {
    "scrolled": true
   },
   "outputs": [],
   "source": [
    "us = us.reset_index()\n",
    "us"
   ]
  },
  {
   "cell_type": "code",
   "execution_count": null,
   "id": "878413b9",
   "metadata": {
    "scrolled": false
   },
   "outputs": [],
   "source": [
    "homes = homes.reset_index()\n",
    "homes"
   ]
  },
  {
   "cell_type": "code",
   "execution_count": null,
   "id": "7b1c6126",
   "metadata": {},
   "outputs": [],
   "source": [
    "homes.loc[homes['State']=='VT']"
   ]
  },
  {
   "cell_type": "code",
   "execution_count": null,
   "id": "88a0b6d8",
   "metadata": {},
   "outputs": [],
   "source": []
  },
  {
   "cell_type": "code",
   "execution_count": null,
   "id": "cbc04fdb",
   "metadata": {},
   "outputs": [],
   "source": [
    "us.to_csv('us_clean.csv', index = False)"
   ]
  },
  {
   "cell_type": "code",
   "execution_count": null,
   "id": "da7f6841",
   "metadata": {},
   "outputs": [],
   "source": [
    "west.to_csv('west.csv', index = False)"
   ]
  },
  {
   "cell_type": "code",
   "execution_count": null,
   "id": "bbfdab71",
   "metadata": {},
   "outputs": [],
   "source": [
    "midwest.to_csv('midwest.csv', index = False)"
   ]
  },
  {
   "cell_type": "code",
   "execution_count": null,
   "id": "2f625a4b",
   "metadata": {},
   "outputs": [],
   "source": [
    "north.to_csv('north.csv', index = False)"
   ]
  },
  {
   "cell_type": "code",
   "execution_count": null,
   "id": "341bab52",
   "metadata": {},
   "outputs": [],
   "source": [
    "south.to_csv('south.csv', index = False)"
   ]
  },
  {
   "cell_type": "code",
   "execution_count": null,
   "id": "4b9acdcc",
   "metadata": {},
   "outputs": [],
   "source": [
    "federal.to_csv('federal.csv', index = False)"
   ]
  },
  {
   "cell_type": "code",
   "execution_count": null,
   "id": "7e3ff479",
   "metadata": {},
   "outputs": [],
   "source": [
    "homes.to_csv('homes.csv', index = False)"
   ]
  },
  {
   "cell_type": "code",
   "execution_count": null,
   "id": "babce68e",
   "metadata": {},
   "outputs": [],
   "source": []
  },
  {
   "cell_type": "code",
   "execution_count": null,
   "id": "1889a907",
   "metadata": {
    "scrolled": true
   },
   "outputs": [],
   "source": [
    "us"
   ]
  },
  {
   "cell_type": "code",
   "execution_count": null,
   "id": "fe8a9bb1",
   "metadata": {
    "scrolled": true
   },
   "outputs": [],
   "source": [
    "us.columns.to_list()"
   ]
  },
  {
   "cell_type": "code",
   "execution_count": null,
   "id": "25142ea5",
   "metadata": {},
   "outputs": [],
   "source": [
    "us_test = us.sort_values(by = [\"state\", \"agency_name\"])[['index', 'state', 'agency_type', 'agency_name', 'population_1', 'total_offenses', 'crimes_against_persons', 'crimes_against_property',\n",
    " 'crimes_against_society', 'assault_offenses', 'aggravated_assault', 'simple_assault', 'intimidation', 'homicide_offenses', 'murder_and_nonnegligent_manslaughter', 'negligent_man_slaughter',\n",
    " 'justifiable_homicide', 'human_trafficking_offenses', 'commercial_sex_acts', 'involuntary_servitude', 'kidnapping_abduction', 'sex_offenses', 'rape', 'sodomy', 'sexual_assault_with_an_object',\n",
    " 'fondling', 'incest', 'statutory_rape', 'arson', 'bribery', 'burglary_breaking_&_entering', 'counter_feiting_forgery', 'destruction_damage_vandalism_of_property', 'embezzle_ment', 'extortion_blackmail',\n",
    " 'fraud_offenses', 'false_pretenses_swindle_confidence_game', 'credit_card_automated_teller_machine_fraud', 'imper_sonation', 'welfare_fraud', 'wire_fraud', 'identity_theft', 'hacking_computer_invasion',\n",
    " 'larceny_theft_offenses', 'pocket_picking', 'purse_snatching', 'shop_lifting', 'theft_from_building', 'theft_from_coin_op_erated_machine_or_device', 'theft_from_motor_vehicle',\n",
    " 'theft_of_motor_vehicle_parts_or_acces_sories', 'all_other_larceny', 'motor_vehicle_theft', 'robbery', 'stolen_property_offenses', 'animal_cruelty', 'drug_narcotic_offenses', 'drug_narcotic_violations',\n",
    " 'drug_equipment_violations', 'gambling_offenses', 'betting_wagering', 'operating_promoting_assisting_gambling', 'gambling_equipment_violations', 'sports_tampering', 'por_nography_obscene_material',\n",
    " 'pros_titution_offenses', 'pros_titution', 'assisting_or_promoting_prostitution', 'purchasing_prostitution', 'weapon_law_violations']]"
   ]
  },
  {
   "cell_type": "code",
   "execution_count": null,
   "id": "020d9c68",
   "metadata": {},
   "outputs": [],
   "source": [
    "us_test"
   ]
  },
  {
   "cell_type": "code",
   "execution_count": null,
   "id": "83aa5175",
   "metadata": {},
   "outputs": [],
   "source": []
  }
 ],
 "metadata": {
  "kernelspec": {
   "display_name": "Python 3 (ipykernel)",
   "language": "python",
   "name": "python3"
  },
  "language_info": {
   "codemirror_mode": {
    "name": "ipython",
    "version": 3
   },
   "file_extension": ".py",
   "mimetype": "text/x-python",
   "name": "python",
   "nbconvert_exporter": "python",
   "pygments_lexer": "ipython3",
   "version": "3.8.5"
  }
 },
 "nbformat": 4,
 "nbformat_minor": 5
}
