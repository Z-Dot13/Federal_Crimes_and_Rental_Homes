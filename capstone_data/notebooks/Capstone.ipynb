{
 "cells": [
  {
   "cell_type": "code",
   "execution_count": null,
   "id": "73486067",
   "metadata": {},
   "outputs": [],
   "source": [
    "from sqlalchemy import create_engine\n",
    "from collections import Counter\n",
    "import io\n",
    "import pandas as pd\n",
    "import sqlite3 as sql\n",
    "import re\n",
    "import numpy as np\n",
    "import seaborn as sns\n",
    "from datetime import datetime as dt\n",
    "import matplotlib.pyplot as plt\n",
    "import matplotlib.colors as colors\n",
    "from jupyterthemes import jtplot\n",
    "jtplot.style()\n",
    "from shapely.geometry import Point\n",
    "import geopandas as gpd\n",
    "import folium\n",
    "from folium.plugins import MarkerCluster\n",
    "from folium.plugins import FastMarkerCluster\n",
    "from skimpy import clean_columns\n",
    "import cmd\n",
    "import geopandas as gpd\n",
    "# !pip install skimpy\n",
    "# !pip install openpyxl\n",
    "pd.set_option('display.max_rows', 100)\n",
    "# pd.set_option('max_columns', None)\n",
    "pd.options.display.max_colwidth = 3000\n",
    "\n",
    "%matplotlib inline"
   ]
  },
  {
   "cell_type": "code",
   "execution_count": null,
   "id": "db20bd84",
   "metadata": {},
   "outputs": [],
   "source": [
    "homes = pd.read_csv('homes.csv')\n",
    "us = pd.read_csv('us_clean.csv')\n",
    "west = pd.read_csv('west.csv')\n",
    "midwest = pd.read_csv('midwest.csv')\n",
    "north = pd.read_csv('north.csv')\n",
    "south = pd.read_csv('south.csv')"
   ]
  },
  {
   "cell_type": "code",
   "execution_count": null,
   "id": "a5aa7614",
   "metadata": {},
   "outputs": [],
   "source": [
    "homes.head(100)"
   ]
  },
  {
   "cell_type": "code",
   "execution_count": null,
   "id": "e1f6c045",
   "metadata": {
    "scrolled": true
   },
   "outputs": [],
   "source": [
    "west_region = west.sum()\n",
    "west_region = west_region.reset_index()"
   ]
  },
  {
   "cell_type": "code",
   "execution_count": null,
   "id": "06d24e6f",
   "metadata": {
    "scrolled": true
   },
   "outputs": [],
   "source": [
    "west_region.columns = west_region.iloc[0]"
   ]
  },
  {
   "cell_type": "code",
   "execution_count": null,
   "id": "8dc7dc1b",
   "metadata": {},
   "outputs": [],
   "source": [
    "west_region.columns = ['list', 'sum']"
   ]
  },
  {
   "cell_type": "code",
   "execution_count": null,
   "id": "3435fe18",
   "metadata": {},
   "outputs": [],
   "source": [
    "west_region.drop([0], axis = 0, inplace = True)"
   ]
  },
  {
   "cell_type": "code",
   "execution_count": null,
   "id": "6346138a",
   "metadata": {},
   "outputs": [],
   "source": [
    "west_region = west_region.reset_index()"
   ]
  },
  {
   "cell_type": "code",
   "execution_count": null,
   "id": "7f7f1449",
   "metadata": {
    "scrolled": true
   },
   "outputs": [],
   "source": [
    "west_region"
   ]
  },
  {
   "cell_type": "code",
   "execution_count": null,
   "id": "5513efba",
   "metadata": {
    "scrolled": true
   },
   "outputs": [],
   "source": [
    "west_region"
   ]
  },
  {
   "cell_type": "code",
   "execution_count": null,
   "id": "33273273",
   "metadata": {
    "scrolled": true
   },
   "outputs": [],
   "source": [
    "midwest_region = midwest.sum()\n",
    "midwest_region = midwest_region.reset_index()\n",
    "midwest_region.columns = midwest_region.iloc[0]\n",
    "midwest_region.columns = ['list', 'sum']\n",
    "midwest_region.drop([0], axis = 0, inplace = True)\n",
    "midwest_region = midwest_region.reset_index()\n",
    "midwest_region"
   ]
  },
  {
   "cell_type": "code",
   "execution_count": null,
   "id": "4eac6ca1",
   "metadata": {
    "scrolled": true
   },
   "outputs": [],
   "source": [
    "north_region = north.sum()\n",
    "north_region = north_region.reset_index()\n",
    "north_region.columns = north_region.iloc[0]\n",
    "north_region.columns = ['list', 'sum']\n",
    "north_region.drop([0], axis = 0, inplace = True)\n",
    "north_region = north_region.reset_index()\n",
    "north_region"
   ]
  },
  {
   "cell_type": "code",
   "execution_count": null,
   "id": "146e6d88",
   "metadata": {
    "scrolled": true
   },
   "outputs": [],
   "source": [
    "south_region = south.sum()\n",
    "south_region = south_region.reset_index()\n",
    "south_region.columns = south_region.iloc[0]\n",
    "south_region.columns = ['list', 'sum']\n",
    "south_region.drop([0], axis = 0, inplace = True)\n",
    "south_region = south_region.reset_index()\n",
    "south_region"
   ]
  },
  {
   "cell_type": "code",
   "execution_count": null,
   "id": "21f94fae",
   "metadata": {},
   "outputs": [],
   "source": [
    "us_region = us.sum()\n",
    "us_region = us_region.reset_index()\n",
    "us_region.columns = us_region.iloc[1]"
   ]
  },
  {
   "cell_type": "code",
   "execution_count": null,
   "id": "fc846b23",
   "metadata": {
    "scrolled": true
   },
   "outputs": [],
   "source": [
    "us_region"
   ]
  },
  {
   "cell_type": "code",
   "execution_count": null,
   "id": "8a65e20a",
   "metadata": {},
   "outputs": [],
   "source": [
    "us_region.columns = ['list', 'sum']\n",
    "us_region.drop([0, 1, 2, 3], axis = 0, inplace = True)"
   ]
  },
  {
   "cell_type": "code",
   "execution_count": null,
   "id": "76bb24c3",
   "metadata": {
    "scrolled": true
   },
   "outputs": [],
   "source": [
    "us_region = us_region.reset_index()\n",
    "us_region"
   ]
  },
  {
   "cell_type": "code",
   "execution_count": null,
   "id": "ec5fa30b",
   "metadata": {},
   "outputs": [],
   "source": [
    "homes"
   ]
  },
  {
   "cell_type": "code",
   "execution_count": null,
   "id": "9e2f5b9c",
   "metadata": {},
   "outputs": [],
   "source": [
    "homes_west_region = homes[homes['State'].isin(['WA', 'OR', 'NV', 'WY', 'MT', 'ID', 'UT', 'NM', 'AZ', 'CO'])]\n",
    "homes_west_region"
   ]
  },
  {
   "cell_type": "code",
   "execution_count": null,
   "id": "142b8ed2",
   "metadata": {},
   "outputs": [],
   "source": [
    "homes_midwest_region = homes[homes['State'].isin(['ND', 'SD', 'NE', 'KS', 'MO', 'MN', 'IA', 'WI', 'IL', 'IN', 'MI', 'OH'])]\n",
    "homes_midwest_region"
   ]
  },
  {
   "cell_type": "code",
   "execution_count": null,
   "id": "580a6acd",
   "metadata": {},
   "outputs": [],
   "source": [
    "homes_north_region = homes[homes['State'].isin(['PA', 'NY', 'DC', 'VT', 'CT', 'RI', 'MA', 'NH', 'ME'])]\n",
    "homes_north_region"
   ]
  },
  {
   "cell_type": "code",
   "execution_count": null,
   "id": "11f4a87d",
   "metadata": {},
   "outputs": [],
   "source": [
    "homes_south_region = homes[homes['State'].isin(['TX', 'OK', 'AR', 'LA', 'MS', 'TN', 'KY', 'GA', 'SC', 'NC', 'WV', 'VA', 'MD', 'DE'])]\n",
    "homes_south_region"
   ]
  },
  {
   "cell_type": "code",
   "execution_count": null,
   "id": "12d7bcda",
   "metadata": {},
   "outputs": [],
   "source": [
    "homes_south_region"
   ]
  },
  {
   "cell_type": "markdown",
   "id": "9e688e44",
   "metadata": {},
   "source": [
    "# homes_south_region.loc[:, (homes_south_region.sum(axis = 0) != 0)]"
   ]
  },
  {
   "cell_type": "code",
   "execution_count": null,
   "id": "c58f7bd2",
   "metadata": {},
   "outputs": [],
   "source": [
    "west_region.to_csv('west_region.csv', index = False)\n",
    "midwest_region.to_csv('midwest_region.csv', index = False)\n",
    "north_region.to_csv('north_region.csv', index = False)\n",
    "south_region.to_csv('south_region.csv', index = False)\n",
    "us_region.to_csv('us_region.csv', index = False)\n",
    "homes_west_region.to_csv('homes_west_region.csv', index = False)\n",
    "homes_midwest_region.to_csv('homes_midwest_region.csv', index = False)\n",
    "homes_north_region.to_csv('homes_north_region.csv', index = False)\n",
    "homes_south_region.to_csv('homes_south_region.csv', index = False)"
   ]
  },
  {
   "cell_type": "markdown",
   "id": "491b1b77",
   "metadata": {},
   "source": [
    "# avg_value = sum(list_of_values) / len(list_of_values)"
   ]
  },
  {
   "cell_type": "code",
   "execution_count": null,
   "id": "c360b91a",
   "metadata": {},
   "outputs": [],
   "source": []
  },
  {
   "cell_type": "code",
   "execution_count": null,
   "id": "7932faf1",
   "metadata": {},
   "outputs": [],
   "source": []
  },
  {
   "cell_type": "code",
   "execution_count": null,
   "id": "2dcc7cec",
   "metadata": {
    "scrolled": true
   },
   "outputs": [],
   "source": [
    "homes_south_region1 = homes[homes['State'].isin(['TX', 'OK', 'AR', 'LA', 'MS', 'TN', 'KY', 'GA', 'SC', 'NC', 'WV', 'VA', 'MD', 'DE'])].groupby('State').sum()\n",
    "homes_south_region1 = homes_south_region1.reset_index()"
   ]
  },
  {
   "cell_type": "code",
   "execution_count": null,
   "id": "e3c289b0",
   "metadata": {},
   "outputs": [],
   "source": [
    "homes_south_region1"
   ]
  },
  {
   "cell_type": "code",
   "execution_count": null,
   "id": "f49b1460",
   "metadata": {},
   "outputs": [],
   "source": []
  },
  {
   "cell_type": "code",
   "execution_count": null,
   "id": "915f8aa7",
   "metadata": {},
   "outputs": [],
   "source": [
    "homes"
   ]
  },
  {
   "cell_type": "code",
   "execution_count": null,
   "id": "c5a7c179",
   "metadata": {
    "scrolled": true
   },
   "outputs": [],
   "source": [
    "homes.columns.to_list()"
   ]
  },
  {
   "cell_type": "code",
   "execution_count": null,
   "id": "d21ac74b",
   "metadata": {},
   "outputs": [],
   "source": [
    "homes_test = homes.sort_values(by = [\"State\", \"CountyName\"])[['index', 'RegionName', 'State', 'CountyName', 'SizeRank', '2010-01', '2010-02', '2010-03', '2010-04', '2010-05', '2010-06', '2010-07',\n",
    " '2010-08', '2010-09', '2010-10', '2010-11', '2010-12', '2011-01', '2011-02', '2011-03', '2011-04', '2011-05', '2011-06', '2011-07', '2011-08', '2011-09', '2011-10', '2011-11', '2011-12', '2012-01',\n",
    " '2012-02', '2012-03', '2012-04', '2012-05', '2012-06', '2012-07', '2012-08', '2012-09', '2012-10', '2012-11', '2012-12', '2013-01', '2013-02', '2013-03', '2013-04', '2013-05', '2013-06', '2013-07',\n",
    " '2013-08', '2013-09', '2013-10', '2013-11', '2013-12', '2014-01', '2014-02', '2014-03', '2014-04', '2014-05', '2014-06', '2014-07', '2014-08', '2014-09', '2014-10', '2014-11', '2014-12', '2015-01', \n",
    " '2015-02', '2015-03', '2015-04', '2015-05', '2015-06', '2015-07', '2015-08', '2015-09', '2015-10', '2015-11', '2015-12', '2016-01', '2016-02', '2016-03', '2016-04', '2016-05', '2016-06', '2016-07',\n",
    " '2016-08', '2016-09', '2016-10', '2016-11', '2016-12', '2017-01', '2017-02', '2017-03', '2017-04', '2017-05', '2017-06', '2017-07', '2017-08', '2017-09', '2017-10', '2017-11', '2017-12', '2018-01',\n",
    " '2018-02', '2018-03', '2018-04', '2018-05', '2018-06', '2018-07', '2018-08', '2018-09', '2018-10', '2018-11', '2018-12', '2019-01', '2019-02', '2019-03', '2019-04', '2019-05', '2019-06', '2019-07',\n",
    " '2019-08', '2019-09', '2019-10', '2019-11', '2019-12', 'mean']]"
   ]
  },
  {
   "cell_type": "code",
   "execution_count": null,
   "id": "c4f4af92",
   "metadata": {},
   "outputs": [],
   "source": [
    "homes_test"
   ]
  },
  {
   "cell_type": "code",
   "execution_count": null,
   "id": "68ae6dbd",
   "metadata": {},
   "outputs": [],
   "source": []
  }
 ],
 "metadata": {
  "kernelspec": {
   "display_name": "Python 3 (ipykernel)",
   "language": "python",
   "name": "python3"
  },
  "language_info": {
   "codemirror_mode": {
    "name": "ipython",
    "version": 3
   },
   "file_extension": ".py",
   "mimetype": "text/x-python",
   "name": "python",
   "nbconvert_exporter": "python",
   "pygments_lexer": "ipython3",
   "version": "3.8.5"
  }
 },
 "nbformat": 4,
 "nbformat_minor": 5
}
